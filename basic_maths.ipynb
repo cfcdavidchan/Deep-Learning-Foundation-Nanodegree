{
 "cells": [
  {
   "cell_type": "code",
   "execution_count": 3,
   "metadata": {
    "collapsed": true
   },
   "outputs": [],
   "source": [
    "import numpy as np"
   ]
  },
  {
   "cell_type": "code",
   "execution_count": 52,
   "metadata": {
    "collapsed": false
   },
   "outputs": [
    {
     "name": "stdout",
     "output_type": "stream",
     "text": [
      "x:\n",
      "[[0 0 1]\n",
      " [0 1 1]\n",
      " [1 0 1]\n",
      " [1 1 1]]\n",
      "\n",
      "y:\n",
      "[[0]\n",
      " [1]\n",
      " [1]\n",
      " [0]]\n"
     ]
    }
   ],
   "source": [
    "#collec data\n",
    "\n",
    "x = np.array([[0,0,1],\n",
    "            [0,1,1],\n",
    "            [1,0,1],\n",
    "            [1,1,1]])\n",
    "\n",
    "y = np.array([[0],\n",
    "             [1],\n",
    "             [1],\n",
    "             [0]])\n",
    "print ('x:')\n",
    "print (x)\n",
    "print ()\n",
    "print('y:')\n",
    "print (y)"
   ]
  },
  {
   "cell_type": "code",
   "execution_count": 64,
   "metadata": {
    "collapsed": false
   },
   "outputs": [
    {
     "name": "stdout",
     "output_type": "stream",
     "text": [
      "syn0\n",
      "[[-0.25256988  0.4029003  -0.67063056  0.31961976]\n",
      " [-0.10581503 -0.01388947  0.13625314  0.89657581]\n",
      " [-0.91653051 -0.33455709  0.44236435 -0.53469391]]\n",
      "\n",
      "sys1\n",
      "[[ 0.2798216 ]\n",
      " [ 0.71506016]\n",
      " [ 0.53760987]\n",
      " [ 0.00805324]]\n"
     ]
    }
   ],
   "source": [
    "#build mordel\n",
    "\n",
    "num_epochs = 60000\n",
    "\n",
    "# initialize weights\n",
    "syn0 = 2 * np.random.random(tuple(reversed(x.shape))) - 1\n",
    "syn1 = 2 * np.random.random(y.shape) - 1\n",
    "\n",
    "print (\"syn0\")\n",
    "print (syn0)\n",
    "print ()\n",
    "print ('sys1')\n",
    "print (sys1)"
   ]
  },
  {
   "cell_type": "code",
   "execution_count": 61,
   "metadata": {
    "collapsed": true
   },
   "outputs": [],
   "source": [
    "def nonlin(x,deriv=False):\n",
    "    if (deriv==True):\n",
    "        return x*(1-x)\n",
    "    \n",
    "    return 1/(1+np.exp(-x))"
   ]
  },
  {
   "cell_type": "code",
   "execution_count": 66,
   "metadata": {
    "collapsed": false
   },
   "outputs": [
    {
     "name": "stdout",
     "output_type": "stream",
     "text": [
      "Error:0.500193564178\n",
      "Error:0.0196383008249\n",
      "Error:0.0131198054332\n",
      "Error:0.010463388462\n",
      "Error:0.0089375825827\n",
      "Error:0.00791934169501\n"
     ]
    }
   ],
   "source": [
    "#Train model\n",
    "for j in range(num_epochs):\n",
    "    #feed forward through layers 0,1, and 2\n",
    "    l0 = x # input layer\n",
    "    l1 = nonlin(np.dot(l0,syn0)) # input layer to first layer\n",
    "    l2 = nonlin(np.dot(l1,syn1)) # first layer to output layer\n",
    "    \n",
    "    #how much did we miss the target value?\n",
    "    l2_error = y - l2\n",
    "    \n",
    "    if (j%10000) == 0:\n",
    "        print (\"Error:\"+ str(np.mean(np.abs(l2_error))))\n",
    "    \n",
    "    #in what direction is the target value?\n",
    "    l2_delta = l2_error * nonlin(l2,deriv=True)\n",
    "    \n",
    "    #how much did each l1 value contribute to l2 error\n",
    "    l1_error = l2_delta.dot(sys1.T)\n",
    "    \n",
    "    l1_delta = l1_error * nonlin(l1,deriv=True)\n",
    "    \n",
    "    \n",
    "    syn1 += l1.T.dot(l2_delta)\n",
    "    syn0 += l0.T.dot(l1_delta)"
   ]
  }
 ],
 "metadata": {
  "kernelspec": {
   "display_name": "Python 3",
   "language": "python",
   "name": "python3"
  },
  "language_info": {
   "codemirror_mode": {
    "name": "ipython",
    "version": 3
   },
   "file_extension": ".py",
   "mimetype": "text/x-python",
   "name": "python",
   "nbconvert_exporter": "python",
   "pygments_lexer": "ipython3",
   "version": "3.5.3"
  }
 },
 "nbformat": 4,
 "nbformat_minor": 2
}
